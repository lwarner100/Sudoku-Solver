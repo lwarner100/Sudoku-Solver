{
 "cells": [
  {
   "cell_type": "code",
   "execution_count": 1,
   "metadata": {},
   "outputs": [],
   "source": [
    "import numpy as np\n",
    "import pandas as pd\n",
    "import matplotlib.pyplot as plt\n",
    "from sudoku import Sudoku"
   ]
  },
  {
   "cell_type": "code",
   "execution_count": 2,
   "metadata": {},
   "outputs": [],
   "source": [
    "df = pd.read_csv('sudoku_games.csv')"
   ]
  },
  {
   "cell_type": "code",
   "execution_count": 3,
   "metadata": {},
   "outputs": [],
   "source": [
    "random_quiz = np.random.randint(0,df.quizzes.count()-1)\n",
    "gamestate = df.quizzes[random_quiz]\n",
    "s = Sudoku()\n",
    "s.load_gamestate(gamestate)"
   ]
  },
  {
   "cell_type": "code",
   "execution_count": 4,
   "metadata": {},
   "outputs": [
    {
     "data": {
      "text/plain": [
       "\n",
       "        0 8 0|2 0 0|3 0 0\n",
       "        7 5 0|0 4 0|0 1 0\n",
       "        0 3 4|1 0 9|0 6 0\n",
       "        -----------------\n",
       "        0 0 2|0 9 3|0 0 7\n",
       "        9 0 1|0 0 4|0 8 0\n",
       "        0 6 5|0 0 0|0 0 0\n",
       "        -----------------\n",
       "        4 0 0|0 5 7|2 0 0\n",
       "        0 9 0|0 1 0|5 3 8\n",
       "        0 0 0|0 0 6|0 4 0"
      ]
     },
     "execution_count": 4,
     "metadata": {},
     "output_type": "execute_result"
    }
   ],
   "source": [
    "s"
   ]
  },
  {
   "cell_type": "code",
   "execution_count": 5,
   "metadata": {},
   "outputs": [
    {
     "name": "stdout",
     "output_type": "stream",
     "text": [
      "Position (3, 1) is 3\n",
      "\n",
      "        1 8 9|2 6 5|3 7 4\n",
      "        7 5 6|3 4 8|9 1 2\n",
      "        2 3 4|1 7 9|8 6 5\n",
      "        -----------------\n",
      "        8 4 2|6 9 3|1 5 7\n",
      "        9 7 1|5 2 4|6 8 3\n",
      "        3 6 5|7 8 1|4 2 9\n",
      "        -----------------\n",
      "        4 1 3|8 5 7|2 9 6\n",
      "        6 9 7|4 1 2|5 3 8\n",
      "        5 2 8|9 3 6|7 4 1\n",
      "81/81 values found in 12.414 seconds\n",
      "Solution found!\n"
     ]
    }
   ],
   "source": [
    "s.solve()"
   ]
  },
  {
   "cell_type": "code",
   "execution_count": 6,
   "metadata": {},
   "outputs": [
    {
     "data": {
      "text/plain": [
       "True"
      ]
     },
     "execution_count": 6,
     "metadata": {},
     "output_type": "execute_result"
    }
   ],
   "source": [
    "s.to_string_format() == df.solutions[random_quiz]"
   ]
  },
  {
   "cell_type": "code",
   "execution_count": 7,
   "metadata": {},
   "outputs": [
    {
     "data": {
      "text/plain": [
       "True"
      ]
     },
     "execution_count": 7,
     "metadata": {},
     "output_type": "execute_result"
    }
   ],
   "source": [
    "s.double_check()"
   ]
  }
 ],
 "metadata": {
  "interpreter": {
   "hash": "31f2aee4e71d21fbe5cf8b01ff0e069b9275f58929596ceb00d14d90e3e16cd6"
  },
  "kernelspec": {
   "display_name": "Python 3.7.4 64-bit",
   "language": "python",
   "name": "python3"
  },
  "language_info": {
   "codemirror_mode": {
    "name": "ipython",
    "version": 3
   },
   "file_extension": ".py",
   "mimetype": "text/x-python",
   "name": "python",
   "nbconvert_exporter": "python",
   "pygments_lexer": "ipython3",
   "version": "3.7.4"
  },
  "orig_nbformat": 4
 },
 "nbformat": 4,
 "nbformat_minor": 2
}
